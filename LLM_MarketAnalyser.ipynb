{
  "nbformat": 4,
  "nbformat_minor": 0,
  "metadata": {
    "colab": {
      "provenance": [],
      "authorship_tag": "ABX9TyMeTcb5YaufcPCg6odir351"
    },
    "kernelspec": {
      "name": "python3",
      "display_name": "Python 3"
    },
    "language_info": {
      "name": "python"
    }
  },
  "cells": [
    {
      "cell_type": "markdown",
      "source": [
        "**PART 0: INSTALLING DEPENDENCIES**"
      ],
      "metadata": {
        "id": "ymQqEMQTu1Ur"
      }
    },
    {
      "cell_type": "code",
      "execution_count": null,
      "metadata": {
        "id": "Nlduzs_lxLJg"
      },
      "outputs": [],
      "source": [
        "import os\n",
        "import streamlit as st\n",
        "import pickle\n",
        "import time\n",
        "import langchain\n",
        "from langchain import OpenAI\n",
        "from langchain.chains import RetrievalQAWithSourcesChain\n",
        "from langchain.chains.question_answering import load_qa_chain\n",
        "from langchain.text_splitter import RecursiveCharacterTextSplitter\n",
        "from langchain.document_loaders import UnstructuredURLLoader\n",
        "from langchain.embeddings import OpenAIEmbeddings\n",
        "from langchain.vectorstores import FAISS"
      ]
    },
    {
      "cell_type": "code",
      "source": [
        "os.environ['OPENAI_API_KEY'] = \"your_api_key\""
      ],
      "metadata": {
        "id": "IOMmO2-nlAAG"
      },
      "execution_count": null,
      "outputs": []
    },
    {
      "cell_type": "code",
      "source": [
        "llm = OpenAI(temperature=0.9, max_tokens=500)\n",
        "loaders = UnstructuredURLLoader(urls=[\n",
        "    \"URL_of_webpage\",\n",
        "    \"URL_of_webpage\"\n",
        "])\n",
        "data=loaders.load()\n",
        "len(data)"
      ],
      "metadata": {
        "id": "ha2CtYU3vCpj"
      },
      "execution_count": null,
      "outputs": []
    },
    {
      "cell_type": "code",
      "source": [
        "recursive_splitter=RecursiveCharacterTextSplitter(\n",
        "    chunk_size=1000,\n",
        "    chunk_overlap=200\n",
        ")\n",
        "document = recursive_splitter.split_documents(data)\n",
        "len(document)"
      ],
      "metadata": {
        "id": "jf6D8IopLMes"
      },
      "execution_count": null,
      "outputs": []
    },
    {
      "cell_type": "code",
      "source": [
        "embeddings = OpenAIEmbeddings()\n",
        "vec_index_emb = FAISS.from_documents(document, embeddings)\n",
        "file_path=\"vec_index.pkl\"\n",
        "with open(file_path, \"wb\") as f:\n",
        "    pickle.dump(vec_index_emb, f)"
      ],
      "metadata": {
        "id": "wVVsRU5BMg2T"
      },
      "execution_count": null,
      "outputs": []
    },
    {
      "cell_type": "code",
      "source": [
        "chain = RetrievalQAWithSourcesChain.from_llm(llm=llm, retriever=vec_index_emb.as_retriever())\n",
        "chain"
      ],
      "metadata": {
        "id": "07yfFXh3kJzN"
      },
      "execution_count": null,
      "outputs": []
    },
    {
      "cell_type": "code",
      "source": [
        "query = \"your_question\"\n",
        "langchain.debug=True\n",
        "\n",
        "chain({\"question\": query}, return_only_outputs=True)"
      ],
      "metadata": {
        "id": "n7T4AFnDnI2b"
      },
      "execution_count": null,
      "outputs": []
    }
  ]
}